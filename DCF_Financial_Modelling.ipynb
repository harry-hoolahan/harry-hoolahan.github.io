{
  "nbformat": 4,
  "nbformat_minor": 0,
  "metadata": {
    "colab": {
      "provenance": [],
      "authorship_tag": "ABX9TyMjvdnG7B87jJq68zy0d8E0",
      "include_colab_link": true
    },
    "kernelspec": {
      "name": "python3",
      "display_name": "Python 3"
    },
    "language_info": {
      "name": "python"
    }
  },
  "cells": [
    {
      "cell_type": "markdown",
      "metadata": {
        "id": "view-in-github",
        "colab_type": "text"
      },
      "source": [
        "<a href=\"https://colab.research.google.com/github/harry-hoolahan/harry-hoolahan.github.io/blob/main/DCF_Financial_Modelling.ipynb\" target=\"_parent\"><img src=\"https://colab.research.google.com/assets/colab-badge.svg\" alt=\"Open In Colab\"/></a>"
      ]
    },
    {
      "cell_type": "code",
      "source": [
        "from google.colab import files\n",
        "import requests\n",
        "import pandas as pd\n",
        "\n",
        "# Your Alpha Vantage API key\n",
        "api_key = 'ENYYE9X9FN0XRFRL'\n",
        "\n",
        "ticker = 'GOOGL'\n",
        "\n",
        "# Define the base URL\n",
        "base_url = 'https://www.alphavantage.co/query?'\n",
        "\n",
        "start_year = 2015\n",
        "end_year = 2022\n",
        "\n",
        "# Function to fetch and process data\n",
        "def fetch_and_process_data(financial_statement_function):\n",
        "    # Define the parameters\n",
        "    params = {\n",
        "        \"function\": financial_statement_function,\n",
        "        \"symbol\": ticker,\n",
        "        \"apikey\": api_key\n",
        "    }\n",
        "\n",
        "    # Send the request\n",
        "    response = requests.get(base_url, params=params)\n",
        "\n",
        "    # Load the data into a DataFrame\n",
        "    data = response.json()\n",
        "\n",
        "    # Check if there is an error message\n",
        "    if 'Error Message' in data:\n",
        "        print(data['Error Message'])\n",
        "        return\n",
        "\n",
        "    statements = pd.json_normalize(data, 'annualReports')\n",
        "\n",
        "    # Set 'fiscalDateEnding' as the index and convert it to datetime\n",
        "    statements.set_index('fiscalDateEnding', inplace=True)\n",
        "    statements.index = pd.to_datetime(statements.index)\n",
        "\n",
        "    # Sort the dataframe to get the years in ascending order\n",
        "    statements.sort_index(ascending=True, inplace=True)\n",
        "\n",
        "    # Filter out the years you're interested in\n",
        "    statements = statements.loc[str(start_year):str(end_year)]\n",
        "\n",
        "    # Transpose the dataframe\n",
        "    statements = statements.transpose()\n",
        "\n",
        "    return statements\n",
        "\n",
        "# Fetch and print the income statements\n",
        "income_statements = fetch_and_process_data(\"INCOME_STATEMENT\")\n",
        "\n",
        "# Fetch and print the cash flow statements\n",
        "cash_flow_statements = fetch_and_process_data(\"CASH_FLOW\")\n",
        "\n",
        "# Fetch and print the balance sheets\n",
        "balance_sheets = fetch_and_process_data(\"BALANCE_SHEET\")\n",
        "\n",
        "# Create a Pandas Excel writer using XlsxWriter as the engine.\n",
        "writer = pd.ExcelWriter('financial_statements.xlsx', engine='xlsxwriter')\n",
        "\n",
        "# Write each DataFrame to a different worksheet.\n",
        "income_statements.to_excel(writer, sheet_name='Income Statements')\n",
        "cash_flow_statements.to_excel(writer, sheet_name='Cash Flow Statements')\n",
        "balance_sheets.to_excel(writer, sheet_name='Balance Sheets')\n",
        "\n",
        "# Close the Pandas Excel writer and output the Excel file.\n",
        "writer.save()\n",
        "\n",
        "# Download the file to your local system\n",
        "files.download('financial_statements.xlsx')\n"
      ],
      "metadata": {
        "colab": {
          "base_uri": "https://localhost:8080/",
          "height": 72
        },
        "id": "1Ygj4tomlxMU",
        "outputId": "4cd10dc2-fe10-4cb0-889a-c4b65dc06495"
      },
      "execution_count": 24,
      "outputs": [
        {
          "output_type": "stream",
          "name": "stderr",
          "text": [
            "<ipython-input-24-6db6eae34c7e>:71: FutureWarning: save is not part of the public API, usage can give unexpected results and will be removed in a future version\n",
            "  writer.save()\n"
          ]
        },
        {
          "output_type": "display_data",
          "data": {
            "text/plain": [
              "<IPython.core.display.Javascript object>"
            ],
            "application/javascript": [
              "\n",
              "    async function download(id, filename, size) {\n",
              "      if (!google.colab.kernel.accessAllowed) {\n",
              "        return;\n",
              "      }\n",
              "      const div = document.createElement('div');\n",
              "      const label = document.createElement('label');\n",
              "      label.textContent = `Downloading \"${filename}\": `;\n",
              "      div.appendChild(label);\n",
              "      const progress = document.createElement('progress');\n",
              "      progress.max = size;\n",
              "      div.appendChild(progress);\n",
              "      document.body.appendChild(div);\n",
              "\n",
              "      const buffers = [];\n",
              "      let downloaded = 0;\n",
              "\n",
              "      const channel = await google.colab.kernel.comms.open(id);\n",
              "      // Send a message to notify the kernel that we're ready.\n",
              "      channel.send({})\n",
              "\n",
              "      for await (const message of channel.messages) {\n",
              "        // Send a message to notify the kernel that we're ready.\n",
              "        channel.send({})\n",
              "        if (message.buffers) {\n",
              "          for (const buffer of message.buffers) {\n",
              "            buffers.push(buffer);\n",
              "            downloaded += buffer.byteLength;\n",
              "            progress.value = downloaded;\n",
              "          }\n",
              "        }\n",
              "      }\n",
              "      const blob = new Blob(buffers, {type: 'application/binary'});\n",
              "      const a = document.createElement('a');\n",
              "      a.href = window.URL.createObjectURL(blob);\n",
              "      a.download = filename;\n",
              "      div.appendChild(a);\n",
              "      a.click();\n",
              "      div.remove();\n",
              "    }\n",
              "  "
            ]
          },
          "metadata": {}
        },
        {
          "output_type": "display_data",
          "data": {
            "text/plain": [
              "<IPython.core.display.Javascript object>"
            ],
            "application/javascript": [
              "download(\"download_bdbed4f7-8a5d-44ce-a866-96222c1d2b58\", \"financial_statements.xlsx\", 11382)"
            ]
          },
          "metadata": {}
        }
      ]
    }
  ]
}